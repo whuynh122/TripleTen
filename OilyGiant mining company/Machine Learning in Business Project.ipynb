{
 "cells": [
  {
   "cell_type": "markdown",
   "metadata": {},
   "source": [
    "Hello William!\n",
    "\n",
    "I’m happy to review your project today.\n",
    "I will mark your mistakes and give you some hints how it is possible to fix them. We are getting ready for real job, where your team leader/senior colleague will do exactly the same. Don't worry and study with pleasure! \n",
    "\n",
    "Below you will find my comments - **please do not move, modify or delete them**.\n",
    "\n",
    "You can find my comments in green, yellow or red boxes like this:\n",
    "\n",
    "<div class=\"alert alert-block alert-success\">\n",
    "<b>Reviewer's comment</b> <a class=\"tocSkip\"></a>\n",
    "\n",
    "Success. Everything is done succesfully.\n",
    "</div>\n",
    "\n",
    "<div class=\"alert alert-block alert-warning\">\n",
    "<b>Reviewer's comment</b> <a class=\"tocSkip\"></a>\n",
    "\n",
    "Remarks. Some recommendations.\n",
    "</div>\n",
    "\n",
    "<div class=\"alert alert-block alert-danger\">\n",
    "\n",
    "<b>Reviewer's comment</b> <a class=\"tocSkip\"></a>\n",
    "\n",
    "Needs fixing. The block requires some corrections. Work can't be accepted with the red comments.\n",
    "</div>\n",
    "\n",
    "You can answer me by using this:\n",
    "\n",
    "<div class=\"alert alert-block alert-info\">\n",
    "<b>Student answer.</b> <a class=\"tocSkip\"></a>\n",
    "\n",
    "Thank you so much for the feedback, I appreacaite it! I should have double checked before submitting. Thanks! \n",
    "</div>\n"
   ]
  },
  {
   "cell_type": "markdown",
   "metadata": {},
   "source": [
    "Title: Sprint 9\n",
    "Introduction:You have data on oil samples from three regions. Parameters of each oil well in the region are already known. Build a model that will help to pick the region with the highest profit margin. Analyze potential profit and risks using the Bootstrapping technique.\n",
    "You have data on oil samples from three regions. Parameters of each oil well in the region are already known. Build a model that will help to pick the region with the highest profit margin. Analyze potential profit and risks using the Bootstrapping technique."
   ]
  },
  {
   "cell_type": "code",
   "execution_count": 818,
   "metadata": {},
   "outputs": [],
   "source": [
    "# Loading all the libraries\n",
    "import pandas as pd\n",
    "import numpy as np\n",
    "import matplotlib.pyplot as plt \n",
    "import datetime as date\n",
    "import scipy.stats as stats\n",
    "import math as math\n",
    "import pandas as pd\n",
    "from sklearn.model_selection import GridSearchCV\n",
    "from sklearn.ensemble import RandomForestClassifier\n",
    "from sklearn.model_selection import train_test_split\n",
    "from sklearn.linear_model import LogisticRegression\n",
    "from sklearn.metrics import accuracy_score\n",
    "from sklearn.metrics import f1_score\n",
    "from sklearn.datasets import make_classification\n",
    "from sklearn.model_selection import train_test_split\n",
    "from sklearn.metrics import roc_curve, roc_auc_score\n",
    "from sklearn.pipeline import Pipeline\n",
    "from sklearn.preprocessing import StandardScaler\n",
    "from sklearn.svm import SVC\n",
    "from sklearn.linear_model import LinearRegression\n",
    "from sklearn.metrics import mean_squared_error\n"
   ]
  },
  {
   "cell_type": "code",
   "execution_count": null,
   "metadata": {},
   "outputs": [],
   "source": [
    "# Load the data files into different DataFrames and \n",
    "region_0= pd.read_csv(r\"geo_data_0.csv\")\n",
    "region_1= pd.read_csv(r\"geo_data_1.csv\")\n",
    "region_2= pd.read_csv(r\"geo_data_2.csv\")"
   ]
  },
  {
   "cell_type": "code",
   "execution_count": 820,
   "metadata": {},
   "outputs": [
    {
     "name": "stdout",
     "output_type": "stream",
     "text": [
      "False\n",
      "False\n",
      "False\n",
      "False\n",
      "False\n",
      "False\n"
     ]
    },
    {
     "data": {
      "text/html": [
       "<div>\n",
       "<style scoped>\n",
       "    .dataframe tbody tr th:only-of-type {\n",
       "        vertical-align: middle;\n",
       "    }\n",
       "\n",
       "    .dataframe tbody tr th {\n",
       "        vertical-align: top;\n",
       "    }\n",
       "\n",
       "    .dataframe thead th {\n",
       "        text-align: right;\n",
       "    }\n",
       "</style>\n",
       "<table border=\"1\" class=\"dataframe\">\n",
       "  <thead>\n",
       "    <tr style=\"text-align: right;\">\n",
       "      <th></th>\n",
       "      <th>id</th>\n",
       "      <th>f0</th>\n",
       "      <th>f1</th>\n",
       "      <th>f2</th>\n",
       "      <th>product</th>\n",
       "    </tr>\n",
       "  </thead>\n",
       "  <tbody>\n",
       "    <tr>\n",
       "      <th>0</th>\n",
       "      <td>kBEdx</td>\n",
       "      <td>-15.001348</td>\n",
       "      <td>-8.276000</td>\n",
       "      <td>-0.005876</td>\n",
       "      <td>3.179103</td>\n",
       "    </tr>\n",
       "    <tr>\n",
       "      <th>1</th>\n",
       "      <td>62mP7</td>\n",
       "      <td>14.272088</td>\n",
       "      <td>-3.475083</td>\n",
       "      <td>0.999183</td>\n",
       "      <td>26.953261</td>\n",
       "    </tr>\n",
       "    <tr>\n",
       "      <th>2</th>\n",
       "      <td>vyE1P</td>\n",
       "      <td>6.263187</td>\n",
       "      <td>-5.948386</td>\n",
       "      <td>5.001160</td>\n",
       "      <td>134.766305</td>\n",
       "    </tr>\n",
       "    <tr>\n",
       "      <th>3</th>\n",
       "      <td>KcrkZ</td>\n",
       "      <td>-13.081196</td>\n",
       "      <td>-11.506057</td>\n",
       "      <td>4.999415</td>\n",
       "      <td>137.945408</td>\n",
       "    </tr>\n",
       "    <tr>\n",
       "      <th>4</th>\n",
       "      <td>AHL4O</td>\n",
       "      <td>12.702195</td>\n",
       "      <td>-8.147433</td>\n",
       "      <td>5.004363</td>\n",
       "      <td>134.766305</td>\n",
       "    </tr>\n",
       "    <tr>\n",
       "      <th>...</th>\n",
       "      <td>...</td>\n",
       "      <td>...</td>\n",
       "      <td>...</td>\n",
       "      <td>...</td>\n",
       "      <td>...</td>\n",
       "    </tr>\n",
       "    <tr>\n",
       "      <th>99995</th>\n",
       "      <td>QywKC</td>\n",
       "      <td>9.535637</td>\n",
       "      <td>-6.878139</td>\n",
       "      <td>1.998296</td>\n",
       "      <td>53.906522</td>\n",
       "    </tr>\n",
       "    <tr>\n",
       "      <th>99996</th>\n",
       "      <td>ptvty</td>\n",
       "      <td>-10.160631</td>\n",
       "      <td>-12.558096</td>\n",
       "      <td>5.005581</td>\n",
       "      <td>137.945408</td>\n",
       "    </tr>\n",
       "    <tr>\n",
       "      <th>99997</th>\n",
       "      <td>09gWa</td>\n",
       "      <td>-7.378891</td>\n",
       "      <td>-3.084104</td>\n",
       "      <td>4.998651</td>\n",
       "      <td>137.945408</td>\n",
       "    </tr>\n",
       "    <tr>\n",
       "      <th>99998</th>\n",
       "      <td>rqwUm</td>\n",
       "      <td>0.665714</td>\n",
       "      <td>-6.152593</td>\n",
       "      <td>1.000146</td>\n",
       "      <td>30.132364</td>\n",
       "    </tr>\n",
       "    <tr>\n",
       "      <th>99999</th>\n",
       "      <td>relB0</td>\n",
       "      <td>-3.426139</td>\n",
       "      <td>-7.794274</td>\n",
       "      <td>-0.003299</td>\n",
       "      <td>3.179103</td>\n",
       "    </tr>\n",
       "  </tbody>\n",
       "</table>\n",
       "<p>100000 rows × 5 columns</p>\n",
       "</div>"
      ],
      "text/plain": [
       "          id         f0         f1        f2     product\n",
       "0      kBEdx -15.001348  -8.276000 -0.005876    3.179103\n",
       "1      62mP7  14.272088  -3.475083  0.999183   26.953261\n",
       "2      vyE1P   6.263187  -5.948386  5.001160  134.766305\n",
       "3      KcrkZ -13.081196 -11.506057  4.999415  137.945408\n",
       "4      AHL4O  12.702195  -8.147433  5.004363  134.766305\n",
       "...      ...        ...        ...       ...         ...\n",
       "99995  QywKC   9.535637  -6.878139  1.998296   53.906522\n",
       "99996  ptvty -10.160631 -12.558096  5.005581  137.945408\n",
       "99997  09gWa  -7.378891  -3.084104  4.998651  137.945408\n",
       "99998  rqwUm   0.665714  -6.152593  1.000146   30.132364\n",
       "99999  relB0  -3.426139  -7.794274 -0.003299    3.179103\n",
       "\n",
       "[100000 rows x 5 columns]"
      ]
     },
     "execution_count": 820,
     "metadata": {},
     "output_type": "execute_result"
    }
   ],
   "source": [
    "#prepare the data \n",
    "print(region_0.duplicated().values.any())\n",
    "print(region_1.duplicated().values.any())\n",
    "print(region_2.duplicated().values.any())\n",
    "print(region_0.isnull().values.any())\n",
    "print(region_1.isnull().values.any())\n",
    "print(region_2.isnull().values.any())\n",
    "region_1"
   ]
  },
  {
   "cell_type": "markdown",
   "metadata": {},
   "source": [
    "<div class=\"alert alert-success\">\n",
    "<b>Reviewer's comment V1</b>\n",
    "\n",
    "Correct\n",
    "\n",
    "</div>"
   ]
  },
  {
   "cell_type": "markdown",
   "metadata": {},
   "source": [
    "No duplicates or nulls"
   ]
  },
  {
   "cell_type": "code",
   "execution_count": 821,
   "metadata": {},
   "outputs": [
    {
     "name": "stdout",
     "output_type": "stream",
     "text": [
      "predicted avg region 0: 92.39879990657768\n",
      "rmse region 0: 37.75660035026169\n",
      "average volume of reserves region 0: 92.50000000000001\n"
     ]
    }
   ],
   "source": [
    "#Split the data into a training set and validation set at a ratio of 75:25. region 0\n",
    "X= region_0[['f0','f1','f2']]\n",
    "y=region_0['product']\n",
    "X_train_0, X_val_0, y_train_0, y_val_0 = train_test_split(X, y, test_size=0.25,random_state=42)\n",
    "model = LinearRegression()\n",
    "model.fit(X_train_0, y_train_0)\n",
    "y_pred_0 = model.predict(X_val_0)\n",
    "rmse_0 = np.sqrt(mean_squared_error(y_val_0, y_pred_0))\n",
    "print('predicted avg region 0:',np.mean(y_pred_0))\n",
    "print('rmse region 0:',rmse_0)\n",
    "print('average volume of reserves region 0:',np.mean(region_0['product']))"
   ]
  },
  {
   "cell_type": "code",
   "execution_count": 822,
   "metadata": {},
   "outputs": [
    {
     "name": "stdout",
     "output_type": "stream",
     "text": [
      "predicted avg region 1: 68.71287803913762\n",
      "rmse region 1: 0.8902801001028854\n",
      "average volume of reserves region0: 68.82500000000002\n"
     ]
    }
   ],
   "source": [
    "#Split the data into a training set and validation set at a ratio of 75:25. region 1\n",
    "X= region_1[['f0','f1','f2']]\n",
    "y=region_1['product']\n",
    "X_train_1, X_val_1, y_train_1, y_val_1 = train_test_split(X, y, test_size=0.25,random_state=42)\n",
    "model = LinearRegression()\n",
    "model.fit(X_train_1, y_train_1)\n",
    "y_pred_1 = model.predict(X_val_1)\n",
    "rmse_1 = np.sqrt(mean_squared_error(y_val_1, y_pred_1))\n",
    "print('predicted avg region 1:',np.mean(y_pred_1))\n",
    "print('rmse region 1:',rmse_1)\n",
    "print('average volume of reserves region0:',np.mean(region_1['product']))\n"
   ]
  },
  {
   "cell_type": "code",
   "execution_count": 823,
   "metadata": {},
   "outputs": [
    {
     "name": "stdout",
     "output_type": "stream",
     "text": [
      "predicted avg region 2: 94.77102387765939\n",
      "rmse region 2: 40.145872311342174\n",
      "average volume of reserves region0: 95.00000000000004\n"
     ]
    }
   ],
   "source": [
    "#Split the data into a training set and validation set at a ratio of 75:25. region 2\n",
    "X= region_2[['f0','f1','f2']]\n",
    "y=region_2['product']\n",
    "X_train_2, X_val_2, y_train_2, y_val_2 = train_test_split(X, y, test_size=0.25,random_state=42)\n",
    "model = LinearRegression()\n",
    "model.fit(X_train_2, y_train_2)\n",
    "y_pred_2 = model.predict(X_val_2)\n",
    "rmse_2 = np.sqrt(mean_squared_error(y_val_2, y_pred_2))\n",
    "print('predicted avg region 2:',np.mean(y_pred_2))\n",
    "print('rmse region 2:',rmse_2)\n",
    "print('average volume of reserves region0:',np.mean(region_2['product']))"
   ]
  },
  {
   "cell_type": "markdown",
   "metadata": {},
   "source": [
    "<div class=\"alert alert-success\">\n",
    "<b>Reviewer's comment V1</b>\n",
    "\n",
    "Good job!\n",
    "\n",
    "</div>"
   ]
  },
  {
   "cell_type": "code",
   "execution_count": 824,
   "metadata": {},
   "outputs": [
    {
     "name": "stdout",
     "output_type": "stream",
     "text": [
      "cost per well: 500000.0\n",
      "reserves for no loss: 111.11111111111111\n"
     ]
    }
   ],
   "source": [
    "# Prepare for profit calculation:\n",
    " #3.1. Store all key values for calculations in separate variables.\n",
    "cp_per_well = 100000000/200\n",
    "sp= 4500\n",
    "num_reserves_for_no_loss_for_well = cp_per_well/sp\n",
    "print('cost per well:',cp_per_well)\n",
    "print('reserves for no loss:',num_reserves_for_no_loss_for_well)\n",
    "\n",
    "\n"
   ]
  },
  {
   "cell_type": "markdown",
   "metadata": {},
   "source": [
    "<div class=\"alert alert-success\">\n",
    "<b>Reviewer's comment V1</b>\n",
    "\n",
    "Correct\n",
    "\n",
    "</div>"
   ]
  },
  {
   "cell_type": "code",
   "execution_count": 825,
   "metadata": {},
   "outputs": [],
   "source": [
    "budget = 100000000\n",
    "points=  200\n",
    "product_price= 4500\n",
    "def profit(target,pred):\n",
    "  pred_sorted = pred.sort_values( ascending=False)\n",
    "  selected_points = target[pred_sorted.index][:points]\n",
    "  product = selected_points.sum()\n",
    "  revenue = product_price* product \n",
    "  return  revenue - budget\n"
   ]
  },
  {
   "cell_type": "code",
   "execution_count": 826,
   "metadata": {},
   "outputs": [
    {
     "data": {
      "text/html": [
       "<div>\n",
       "<style scoped>\n",
       "    .dataframe tbody tr th:only-of-type {\n",
       "        vertical-align: middle;\n",
       "    }\n",
       "\n",
       "    .dataframe tbody tr th {\n",
       "        vertical-align: top;\n",
       "    }\n",
       "\n",
       "    .dataframe thead th {\n",
       "        text-align: right;\n",
       "    }\n",
       "</style>\n",
       "<table border=\"1\" class=\"dataframe\">\n",
       "  <thead>\n",
       "    <tr style=\"text-align: right;\">\n",
       "      <th></th>\n",
       "      <th>target</th>\n",
       "      <th>prediction</th>\n",
       "    </tr>\n",
       "  </thead>\n",
       "  <tbody>\n",
       "    <tr>\n",
       "      <th>0</th>\n",
       "      <td>122.073350</td>\n",
       "      <td>101.901017</td>\n",
       "    </tr>\n",
       "    <tr>\n",
       "      <th>1</th>\n",
       "      <td>48.738540</td>\n",
       "      <td>78.217774</td>\n",
       "    </tr>\n",
       "    <tr>\n",
       "      <th>2</th>\n",
       "      <td>131.338088</td>\n",
       "      <td>115.266901</td>\n",
       "    </tr>\n",
       "    <tr>\n",
       "      <th>3</th>\n",
       "      <td>88.327757</td>\n",
       "      <td>105.618618</td>\n",
       "    </tr>\n",
       "    <tr>\n",
       "      <th>4</th>\n",
       "      <td>36.959266</td>\n",
       "      <td>97.980185</td>\n",
       "    </tr>\n",
       "    <tr>\n",
       "      <th>...</th>\n",
       "      <td>...</td>\n",
       "      <td>...</td>\n",
       "    </tr>\n",
       "    <tr>\n",
       "      <th>24995</th>\n",
       "      <td>148.821520</td>\n",
       "      <td>105.076959</td>\n",
       "    </tr>\n",
       "    <tr>\n",
       "      <th>24996</th>\n",
       "      <td>123.454003</td>\n",
       "      <td>74.768176</td>\n",
       "    </tr>\n",
       "    <tr>\n",
       "      <th>24997</th>\n",
       "      <td>91.945213</td>\n",
       "      <td>82.544397</td>\n",
       "    </tr>\n",
       "    <tr>\n",
       "      <th>24998</th>\n",
       "      <td>149.295563</td>\n",
       "      <td>81.826689</td>\n",
       "    </tr>\n",
       "    <tr>\n",
       "      <th>24999</th>\n",
       "      <td>57.244039</td>\n",
       "      <td>93.121062</td>\n",
       "    </tr>\n",
       "  </tbody>\n",
       "</table>\n",
       "<p>25000 rows × 2 columns</p>\n",
       "</div>"
      ],
      "text/plain": [
       "           target  prediction\n",
       "0      122.073350  101.901017\n",
       "1       48.738540   78.217774\n",
       "2      131.338088  115.266901\n",
       "3       88.327757  105.618618\n",
       "4       36.959266   97.980185\n",
       "...           ...         ...\n",
       "24995  148.821520  105.076959\n",
       "24996  123.454003   74.768176\n",
       "24997   91.945213   82.544397\n",
       "24998  149.295563   81.826689\n",
       "24999   57.244039   93.121062\n",
       "\n",
       "[25000 rows x 2 columns]"
      ]
     },
     "execution_count": 826,
     "metadata": {},
     "output_type": "execute_result"
    }
   ],
   "source": [
    "y_pred_0=pd.Series(y_pred_0)\n",
    "y_pred_0= y_pred_0.to_frame()\n",
    "y_val_0= y_val_0.reset_index(drop=True)\n",
    "y_val_0= y_val_0.to_frame()\n",
    "y_val_0['prediction'] = y_pred_0\n",
    "df=y_val_0\n",
    "df=df.rename(columns={'product': 'target'})\n",
    "df_0 = df\n",
    "df_0\n",
    "\n"
   ]
  },
  {
   "cell_type": "code",
   "execution_count": 827,
   "metadata": {},
   "outputs": [
    {
     "data": {
      "text/html": [
       "<div>\n",
       "<style scoped>\n",
       "    .dataframe tbody tr th:only-of-type {\n",
       "        vertical-align: middle;\n",
       "    }\n",
       "\n",
       "    .dataframe tbody tr th {\n",
       "        vertical-align: top;\n",
       "    }\n",
       "\n",
       "    .dataframe thead th {\n",
       "        text-align: right;\n",
       "    }\n",
       "</style>\n",
       "<table border=\"1\" class=\"dataframe\">\n",
       "  <thead>\n",
       "    <tr style=\"text-align: right;\">\n",
       "      <th></th>\n",
       "      <th>target</th>\n",
       "      <th>prediction</th>\n",
       "    </tr>\n",
       "  </thead>\n",
       "  <tbody>\n",
       "    <tr>\n",
       "      <th>0</th>\n",
       "      <td>0.000000</td>\n",
       "      <td>0.844738</td>\n",
       "    </tr>\n",
       "    <tr>\n",
       "      <th>1</th>\n",
       "      <td>53.906522</td>\n",
       "      <td>52.921612</td>\n",
       "    </tr>\n",
       "    <tr>\n",
       "      <th>2</th>\n",
       "      <td>134.766305</td>\n",
       "      <td>135.110385</td>\n",
       "    </tr>\n",
       "    <tr>\n",
       "      <th>3</th>\n",
       "      <td>107.813044</td>\n",
       "      <td>109.494863</td>\n",
       "    </tr>\n",
       "    <tr>\n",
       "      <th>4</th>\n",
       "      <td>0.000000</td>\n",
       "      <td>-0.047292</td>\n",
       "    </tr>\n",
       "    <tr>\n",
       "      <th>...</th>\n",
       "      <td>...</td>\n",
       "      <td>...</td>\n",
       "    </tr>\n",
       "    <tr>\n",
       "      <th>24995</th>\n",
       "      <td>107.813044</td>\n",
       "      <td>108.351600</td>\n",
       "    </tr>\n",
       "    <tr>\n",
       "      <th>24996</th>\n",
       "      <td>53.906522</td>\n",
       "      <td>53.604049</td>\n",
       "    </tr>\n",
       "    <tr>\n",
       "      <th>24997</th>\n",
       "      <td>26.953261</td>\n",
       "      <td>26.708734</td>\n",
       "    </tr>\n",
       "    <tr>\n",
       "      <th>24998</th>\n",
       "      <td>110.992147</td>\n",
       "      <td>109.823087</td>\n",
       "    </tr>\n",
       "    <tr>\n",
       "      <th>24999</th>\n",
       "      <td>134.766305</td>\n",
       "      <td>135.448780</td>\n",
       "    </tr>\n",
       "  </tbody>\n",
       "</table>\n",
       "<p>25000 rows × 2 columns</p>\n",
       "</div>"
      ],
      "text/plain": [
       "           target  prediction\n",
       "0        0.000000    0.844738\n",
       "1       53.906522   52.921612\n",
       "2      134.766305  135.110385\n",
       "3      107.813044  109.494863\n",
       "4        0.000000   -0.047292\n",
       "...           ...         ...\n",
       "24995  107.813044  108.351600\n",
       "24996   53.906522   53.604049\n",
       "24997   26.953261   26.708734\n",
       "24998  110.992147  109.823087\n",
       "24999  134.766305  135.448780\n",
       "\n",
       "[25000 rows x 2 columns]"
      ]
     },
     "execution_count": 827,
     "metadata": {},
     "output_type": "execute_result"
    }
   ],
   "source": [
    "y_pred_1=pd.Series(y_pred_1)\n",
    "y_pred_1= y_pred_1.to_frame()\n",
    "y_val_1= y_val_1.reset_index(drop=True)\n",
    "y_val_1= y_val_1.to_frame()\n",
    "y_val_1['prediction'] = y_pred_1\n",
    "df=y_val_1\n",
    "df=df.rename(columns={'product': 'target'})\n",
    "df_1= df\n",
    "\n",
    "df_1"
   ]
  },
  {
   "cell_type": "code",
   "execution_count": 828,
   "metadata": {},
   "outputs": [
    {
     "data": {
      "text/html": [
       "<div>\n",
       "<style scoped>\n",
       "    .dataframe tbody tr th:only-of-type {\n",
       "        vertical-align: middle;\n",
       "    }\n",
       "\n",
       "    .dataframe tbody tr th {\n",
       "        vertical-align: top;\n",
       "    }\n",
       "\n",
       "    .dataframe thead th {\n",
       "        text-align: right;\n",
       "    }\n",
       "</style>\n",
       "<table border=\"1\" class=\"dataframe\">\n",
       "  <thead>\n",
       "    <tr style=\"text-align: right;\">\n",
       "      <th></th>\n",
       "      <th>target</th>\n",
       "      <th>prediction</th>\n",
       "    </tr>\n",
       "  </thead>\n",
       "  <tbody>\n",
       "    <tr>\n",
       "      <th>0</th>\n",
       "      <td>117.441301</td>\n",
       "      <td>98.301916</td>\n",
       "    </tr>\n",
       "    <tr>\n",
       "      <th>1</th>\n",
       "      <td>47.841249</td>\n",
       "      <td>101.592461</td>\n",
       "    </tr>\n",
       "    <tr>\n",
       "      <th>2</th>\n",
       "      <td>45.883483</td>\n",
       "      <td>52.449099</td>\n",
       "    </tr>\n",
       "    <tr>\n",
       "      <th>3</th>\n",
       "      <td>139.014608</td>\n",
       "      <td>109.922127</td>\n",
       "    </tr>\n",
       "    <tr>\n",
       "      <th>4</th>\n",
       "      <td>84.004276</td>\n",
       "      <td>72.411847</td>\n",
       "    </tr>\n",
       "    <tr>\n",
       "      <th>...</th>\n",
       "      <td>...</td>\n",
       "      <td>...</td>\n",
       "    </tr>\n",
       "    <tr>\n",
       "      <th>24995</th>\n",
       "      <td>40.797226</td>\n",
       "      <td>102.764169</td>\n",
       "    </tr>\n",
       "    <tr>\n",
       "      <th>24996</th>\n",
       "      <td>87.144239</td>\n",
       "      <td>93.431823</td>\n",
       "    </tr>\n",
       "    <tr>\n",
       "      <th>24997</th>\n",
       "      <td>52.039812</td>\n",
       "      <td>64.098390</td>\n",
       "    </tr>\n",
       "    <tr>\n",
       "      <th>24998</th>\n",
       "      <td>136.961454</td>\n",
       "      <td>83.764135</td>\n",
       "    </tr>\n",
       "    <tr>\n",
       "      <th>24999</th>\n",
       "      <td>109.173206</td>\n",
       "      <td>86.558644</td>\n",
       "    </tr>\n",
       "  </tbody>\n",
       "</table>\n",
       "<p>25000 rows × 2 columns</p>\n",
       "</div>"
      ],
      "text/plain": [
       "           target  prediction\n",
       "0      117.441301   98.301916\n",
       "1       47.841249  101.592461\n",
       "2       45.883483   52.449099\n",
       "3      139.014608  109.922127\n",
       "4       84.004276   72.411847\n",
       "...           ...         ...\n",
       "24995   40.797226  102.764169\n",
       "24996   87.144239   93.431823\n",
       "24997   52.039812   64.098390\n",
       "24998  136.961454   83.764135\n",
       "24999  109.173206   86.558644\n",
       "\n",
       "[25000 rows x 2 columns]"
      ]
     },
     "execution_count": 828,
     "metadata": {},
     "output_type": "execute_result"
    }
   ],
   "source": [
    "y_pred_2=pd.Series(y_pred_2)\n",
    "y_pred_2= y_pred_2.to_frame()\n",
    "y_val_2= y_val_2.reset_index(drop=True)\n",
    "y_val_2= y_val_2.to_frame()\n",
    "y_val_2['prediction'] = y_pred_2\n",
    "df=y_val_2\n",
    "df=df.rename(columns={'product': 'target'})\n",
    "df_2= df\n",
    "df_2\n"
   ]
  },
  {
   "cell_type": "markdown",
   "metadata": {},
   "source": [
    "<div class=\"alert alert-danger\">\n",
    "<b>Reviewer's comment V1</b>\n",
    "\n",
    "The function is not correct. I'd recommend to repeat the lesson about students and lessons. Code here should be almost the same. So, your function should return only one value but not 200. And you can't take just a mean value as a result.\n",
    "\n",
    "</div>"
   ]
  },
  {
   "cell_type": "markdown",
   "metadata": {},
   "source": [
    "<div class=\"alert alert-danger\">\n",
    "<b>Reviewer's comment V2</b>\n",
    "\n",
    "The function is still incorrect. To calculate profit you should choose the best wells based on predictions but then you need to use real targets to calculate profit. In the lesson you have an example about students and lessons. Please, repeat this lesson. The code in this project should be almost the same as in this example.\n",
    "\n",
    "</div>"
   ]
  },
  {
   "cell_type": "markdown",
   "metadata": {},
   "source": [
    "<div class=\"alert alert-success\">\n",
    "<b>Reviewer's comment V3</b>\n",
    "\n",
    "It looks fine now. Good job!\n",
    "\n",
    "</div>"
   ]
  },
  {
   "cell_type": "code",
   "execution_count": 829,
   "metadata": {},
   "outputs": [],
   "source": [
    "state= state = np.random.RandomState(12345)"
   ]
  },
  {
   "cell_type": "code",
   "execution_count": 830,
   "metadata": {},
   "outputs": [],
   "source": [
    "import numpy as np\n",
    "import pandas as pd\n",
    "\n",
    "def bootstrap_profit_and_risk(target,pred):\n",
    "    \n",
    "\n",
    "    profits = []\n",
    "\n",
    "    for _ in range(1000):\n",
    "        sample = target.sample(500,replace=True,random_state=state)\n",
    "        pred_sample = pred[sample.index]\n",
    "        profit_sample = profit(sample,pred_sample)\n",
    "        profits.append(profit_sample) \n",
    "\n",
    "    # risk_ci = np.percentile(risks, [2.5, 97.5])\n",
    "\n",
    "    return profits\n"
   ]
  },
  {
   "cell_type": "code",
   "execution_count": 831,
   "metadata": {},
   "outputs": [
    {
     "name": "stdout",
     "output_type": "stream",
     "text": [
      "region 0\n",
      "Average Profit: 4359337.721386622\n",
      "Risk of Losses: 6.1 %\n",
      "95% Confidence Interval for Profit: [-1162316.12777209  9665041.80707375]\n"
     ]
    }
   ],
   "source": [
    "\n",
    "profits = bootstrap_profit_and_risk(df_0['target'],df_0['prediction'])\n",
    "profit_values= pd.Series(profits)\n",
    "print('region 0')\n",
    "print(\"Average Profit:\", np.mean(profits))\n",
    "print(\"Risk of Losses:\", (profit_values<0).mean()*100,'%')\n",
    "print(\"95% Confidence Interval for Profit:\", np.percentile(profits, [2.5, 97.5]))\n"
   ]
  },
  {
   "cell_type": "code",
   "execution_count": 832,
   "metadata": {},
   "outputs": [
    {
     "name": "stdout",
     "output_type": "stream",
     "text": [
      "region 1\n",
      "Average Profit: 4985690.169167884\n",
      "Risk of Losses: 1.0 %\n",
      "95% Confidence Interval for Profit: [ 753155.73088983 9115036.95024557]\n"
     ]
    }
   ],
   "source": [
    "profits = bootstrap_profit_and_risk(df_1['target'],df_1['prediction'])\n",
    "profit_values= pd.Series(profits)\n",
    "print('region 1')\n",
    "print(\"Average Profit:\", np.mean(profits))\n",
    "print(\"Risk of Losses:\", (profit_values<0).mean()*100,'%')\n",
    "print(\"95% Confidence Interval for Profit:\", np.percentile(profits, [2.5, 97.5]))\n"
   ]
  },
  {
   "cell_type": "code",
   "execution_count": 833,
   "metadata": {},
   "outputs": [
    {
     "name": "stdout",
     "output_type": "stream",
     "text": [
      "region 2\n",
      "Average Profit: 4126728.9898853186\n",
      "Risk of Losses: 7.000000000000001 %\n",
      "95% Confidence Interval for Profit: [-1589395.15763606  9781912.01700191]\n"
     ]
    }
   ],
   "source": [
    "profits = bootstrap_profit_and_risk(df_2['target'],df_2['prediction'])\n",
    "profit_values= pd.Series(profits)\n",
    "print('region 2')\n",
    "print(\"Average Profit:\", np.mean(profits))\n",
    "print(\"Risk of Losses:\", (profit_values<0).mean()*100,'%')\n",
    "print(\"95% Confidence Interval for Profit:\", np.percentile(profits, [2.5, 97.5]))"
   ]
  },
  {
   "cell_type": "markdown",
   "metadata": {},
   "source": [
    "<div class=\"alert alert-danger\">\n",
    "<b>Reviewer's comment V1</b>\n",
    "\n",
    "The results are incorrect.\n",
    "1. According to task description you should sample with size=500\n",
    "2. risk - is share of negative profits. So, your risk calculation is incorrect.\n",
    "3. You forgot to calculate confidence interval\n",
    "4. Please, add some structure to your project: add titles, add intermediate conclusions and so on. Make your project look better:)\n",
    "\n",
    "</div>"
   ]
  },
  {
   "cell_type": "markdown",
   "metadata": {},
   "source": [
    "<div class=\"alert alert-danger\">\n",
    "<b>Reviewer's comment V2</b>\n",
    "\n",
    "The results are incorrect.\n",
    "1. According to task description you should sample with size=500 but not with `size=len(data)`\n",
    "2. According to task description you should make 1000 iterations in bootstrap.\n",
    "3. `profits.append(np.mean(sample))` - this is definitely not a profit.\n",
    "4. risk - is a one value. It can't have confidence interval. Only profit can have it. Risk should be calcualte only once after a loop.\n",
    "5. Please, add some structure to your project: add titles, add intermediate conclusions and so on. Make your project look better:)\n",
    "    \n",
    "P.S.  In the lesson you have an example about students and lessons. Please, repeat this lesson. The code in this project should be almost the same as in this example.\n",
    "\n",
    "</div>"
   ]
  },
  {
   "cell_type": "markdown",
   "metadata": {},
   "source": [
    "<div class=\"alert alert-success\">\n",
    "<b>Reviewer's comment V3</b>\n",
    "\n",
    "The results are correct now. Well done! But you should choose region 1 because only in this region risk is lower than 2.5%\n",
    "\n",
    "</div>"
   ]
  },
  {
   "cell_type": "markdown",
   "metadata": {},
   "source": [
    "conclusion: the reserves produced by region 2 was the most."
   ]
  }
 ],
 "metadata": {
  "ExecuteTimeLog": [
   {
    "duration": 7,
    "start_time": "2024-10-30T19:51:29.681Z"
   },
   {
    "duration": 3034,
    "start_time": "2024-10-31T21:28:04.872Z"
   },
   {
    "duration": 0,
    "start_time": "2024-10-31T21:28:07.913Z"
   },
   {
    "duration": 0,
    "start_time": "2024-10-31T21:28:07.914Z"
   },
   {
    "duration": 0,
    "start_time": "2024-10-31T21:28:07.915Z"
   },
   {
    "duration": 0,
    "start_time": "2024-10-31T21:28:07.917Z"
   },
   {
    "duration": 0,
    "start_time": "2024-10-31T21:28:07.925Z"
   },
   {
    "duration": 0,
    "start_time": "2024-10-31T21:28:07.926Z"
   },
   {
    "duration": 0,
    "start_time": "2024-10-31T21:28:07.928Z"
   },
   {
    "duration": 0,
    "start_time": "2024-10-31T21:28:07.929Z"
   },
   {
    "duration": 0,
    "start_time": "2024-10-31T21:28:07.930Z"
   },
   {
    "duration": 0,
    "start_time": "2024-10-31T21:28:07.931Z"
   },
   {
    "duration": 0,
    "start_time": "2024-10-31T21:28:07.933Z"
   },
   {
    "duration": 0,
    "start_time": "2024-10-31T21:28:07.934Z"
   },
   {
    "duration": 0,
    "start_time": "2024-10-31T21:28:07.935Z"
   },
   {
    "duration": 0,
    "start_time": "2024-10-31T21:28:07.936Z"
   },
   {
    "duration": 975,
    "start_time": "2024-10-31T21:29:45.915Z"
   },
   {
    "duration": 313,
    "start_time": "2024-10-31T21:29:46.892Z"
   },
   {
    "duration": 119,
    "start_time": "2024-10-31T21:29:47.207Z"
   },
   {
    "duration": 22,
    "start_time": "2024-10-31T21:29:47.329Z"
   },
   {
    "duration": 72,
    "start_time": "2024-10-31T21:29:47.353Z"
   },
   {
    "duration": 92,
    "start_time": "2024-10-31T21:29:47.428Z"
   },
   {
    "duration": 4,
    "start_time": "2024-10-31T21:29:47.522Z"
   },
   {
    "duration": 84,
    "start_time": "2024-10-31T21:29:47.528Z"
   },
   {
    "duration": 3,
    "start_time": "2024-10-31T21:29:47.614Z"
   },
   {
    "duration": 3,
    "start_time": "2024-10-31T21:29:47.620Z"
   },
   {
    "duration": 2,
    "start_time": "2024-10-31T21:29:47.625Z"
   },
   {
    "duration": 179,
    "start_time": "2024-10-31T21:29:47.629Z"
   },
   {
    "duration": 139,
    "start_time": "2024-10-31T21:29:47.812Z"
   },
   {
    "duration": 161,
    "start_time": "2024-10-31T21:29:47.953Z"
   },
   {
    "duration": 146,
    "start_time": "2024-10-31T21:29:48.117Z"
   }
  ],
  "kernelspec": {
   "display_name": "Python 3 (ipykernel)",
   "language": "python",
   "name": "python3"
  },
  "language_info": {
   "codemirror_mode": {
    "name": "ipython",
    "version": 3
   },
   "file_extension": ".py",
   "mimetype": "text/x-python",
   "name": "python",
   "nbconvert_exporter": "python",
   "pygments_lexer": "ipython3",
   "version": "3.9.19"
  },
  "toc": {
   "base_numbering": 1,
   "nav_menu": {},
   "number_sections": true,
   "sideBar": true,
   "skip_h1_title": true,
   "title_cell": "Table of Contents",
   "title_sidebar": "Contents",
   "toc_cell": false,
   "toc_position": {},
   "toc_section_display": true,
   "toc_window_display": false
  }
 },
 "nbformat": 4,
 "nbformat_minor": 2
}
